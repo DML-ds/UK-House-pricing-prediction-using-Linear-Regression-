{
 "cells": [
  {
   "metadata": {},
   "cell_type": "markdown",
   "source": "# A simple linear regression model to predict UK house prices using the dataset from 2015 to 2024.",
   "id": "493e1c6a2f6eb682"
  },
  {
   "cell_type": "code",
   "id": "initial_id",
   "metadata": {
    "collapsed": true,
    "ExecuteTime": {
     "end_time": "2025-07-12T21:01:25.564512Z",
     "start_time": "2025-07-12T21:01:25.551342Z"
    }
   },
   "source": [
    "# UK house pricing prediction using Linear Regression\n",
    "#importing libraries\n",
    "import pandas as pd\n",
    "import numpy as np\n",
    "import matplotlib.pyplot as plt"
   ],
   "outputs": [],
   "execution_count": 236
  },
  {
   "metadata": {
    "ExecuteTime": {
     "end_time": "2025-07-12T21:01:25.839219Z",
     "start_time": "2025-07-12T21:01:25.584359Z"
    }
   },
   "cell_type": "code",
   "source": [
    "#loading the dataset\n",
    "df = pd.read_csv('/Users/dml/Documents/Project/UKHousePrice/data/UK_House_Price_Prediction_dataset_2015_to_2024.csv')\n",
    "df.head(10)\n"
   ],
   "id": "d4692acd5f747b64",
   "outputs": [
    {
     "data": {
      "text/plain": [
       "    price        date  postcode property_type new_build freehold  \\\n",
       "0  735000  2017-08-07  LE17 5AP             D         N        F   \n",
       "1  160000  2023-02-03  SA11 4BD             T         N        F   \n",
       "2  176500  2015-01-06   ME3 0DQ             S         N        F   \n",
       "3  625000  2021-10-13  RH20 3EU             D         N        F   \n",
       "4  202000  2019-09-27  SN13 8EN             S         N        F   \n",
       "5  249950  2019-09-06  LS12 5FA             S         Y        F   \n",
       "6  730000  2018-11-16   BA1 9AU             D         Y        F   \n",
       "7  185000  2023-12-18  NR10 5PB             S         N        F   \n",
       "8  120000  2021-11-10  WS12 1DN             T         N        L   \n",
       "9  124000  2017-12-08  HU12 8BZ             T         N        F   \n",
       "\n",
       "              street          locality         town  \\\n",
       "0   CLAYBROOKE COURT  CLAYBROOKE PARVA  LUTTERWORTH   \n",
       "1     GORED COTTAGES        MELINCOURT        NEATH   \n",
       "2         GREEN LANE     ISLE OF GRAIN    ROCHESTER   \n",
       "3     LINFIELD COPSE          THAKEHAM   PULBOROUGH   \n",
       "4    CLYDESDALE ROAD               BOX      CORSHAM   \n",
       "5  FARNLEY PARK VIEW           FARNLEY        LEEDS   \n",
       "6     BECKFORD DRIVE          LANSDOWN         BATH   \n",
       "7         NELSON WAY         HEVINGHAM      NORWICH   \n",
       "8    WELLINGTON MEWS        HEDNESFORD      CANNOCK   \n",
       "9    WESTLANDS CLOSE             HEDON         HULL   \n",
       "\n",
       "                       district                        county  \n",
       "0                    HARBOROUGH                LEICESTERSHIRE  \n",
       "1             NEATH PORT TALBOT             NEATH PORT TALBOT  \n",
       "2                        MEDWAY                        MEDWAY  \n",
       "3                       HORSHAM                   WEST SUSSEX  \n",
       "4                     WILTSHIRE                     WILTSHIRE  \n",
       "5                         LEEDS                WEST YORKSHIRE  \n",
       "6  BATH AND NORTH EAST SOMERSET  BATH AND NORTH EAST SOMERSET  \n",
       "7                     BROADLAND                       NORFOLK  \n",
       "8                 CANNOCK CHASE                 STAFFORDSHIRE  \n",
       "9      EAST RIDING OF YORKSHIRE      EAST RIDING OF YORKSHIRE  "
      ],
      "text/html": [
       "<div>\n",
       "<style scoped>\n",
       "    .dataframe tbody tr th:only-of-type {\n",
       "        vertical-align: middle;\n",
       "    }\n",
       "\n",
       "    .dataframe tbody tr th {\n",
       "        vertical-align: top;\n",
       "    }\n",
       "\n",
       "    .dataframe thead th {\n",
       "        text-align: right;\n",
       "    }\n",
       "</style>\n",
       "<table border=\"1\" class=\"dataframe\">\n",
       "  <thead>\n",
       "    <tr style=\"text-align: right;\">\n",
       "      <th></th>\n",
       "      <th>price</th>\n",
       "      <th>date</th>\n",
       "      <th>postcode</th>\n",
       "      <th>property_type</th>\n",
       "      <th>new_build</th>\n",
       "      <th>freehold</th>\n",
       "      <th>street</th>\n",
       "      <th>locality</th>\n",
       "      <th>town</th>\n",
       "      <th>district</th>\n",
       "      <th>county</th>\n",
       "    </tr>\n",
       "  </thead>\n",
       "  <tbody>\n",
       "    <tr>\n",
       "      <th>0</th>\n",
       "      <td>735000</td>\n",
       "      <td>2017-08-07</td>\n",
       "      <td>LE17 5AP</td>\n",
       "      <td>D</td>\n",
       "      <td>N</td>\n",
       "      <td>F</td>\n",
       "      <td>CLAYBROOKE COURT</td>\n",
       "      <td>CLAYBROOKE PARVA</td>\n",
       "      <td>LUTTERWORTH</td>\n",
       "      <td>HARBOROUGH</td>\n",
       "      <td>LEICESTERSHIRE</td>\n",
       "    </tr>\n",
       "    <tr>\n",
       "      <th>1</th>\n",
       "      <td>160000</td>\n",
       "      <td>2023-02-03</td>\n",
       "      <td>SA11 4BD</td>\n",
       "      <td>T</td>\n",
       "      <td>N</td>\n",
       "      <td>F</td>\n",
       "      <td>GORED COTTAGES</td>\n",
       "      <td>MELINCOURT</td>\n",
       "      <td>NEATH</td>\n",
       "      <td>NEATH PORT TALBOT</td>\n",
       "      <td>NEATH PORT TALBOT</td>\n",
       "    </tr>\n",
       "    <tr>\n",
       "      <th>2</th>\n",
       "      <td>176500</td>\n",
       "      <td>2015-01-06</td>\n",
       "      <td>ME3 0DQ</td>\n",
       "      <td>S</td>\n",
       "      <td>N</td>\n",
       "      <td>F</td>\n",
       "      <td>GREEN LANE</td>\n",
       "      <td>ISLE OF GRAIN</td>\n",
       "      <td>ROCHESTER</td>\n",
       "      <td>MEDWAY</td>\n",
       "      <td>MEDWAY</td>\n",
       "    </tr>\n",
       "    <tr>\n",
       "      <th>3</th>\n",
       "      <td>625000</td>\n",
       "      <td>2021-10-13</td>\n",
       "      <td>RH20 3EU</td>\n",
       "      <td>D</td>\n",
       "      <td>N</td>\n",
       "      <td>F</td>\n",
       "      <td>LINFIELD COPSE</td>\n",
       "      <td>THAKEHAM</td>\n",
       "      <td>PULBOROUGH</td>\n",
       "      <td>HORSHAM</td>\n",
       "      <td>WEST SUSSEX</td>\n",
       "    </tr>\n",
       "    <tr>\n",
       "      <th>4</th>\n",
       "      <td>202000</td>\n",
       "      <td>2019-09-27</td>\n",
       "      <td>SN13 8EN</td>\n",
       "      <td>S</td>\n",
       "      <td>N</td>\n",
       "      <td>F</td>\n",
       "      <td>CLYDESDALE ROAD</td>\n",
       "      <td>BOX</td>\n",
       "      <td>CORSHAM</td>\n",
       "      <td>WILTSHIRE</td>\n",
       "      <td>WILTSHIRE</td>\n",
       "    </tr>\n",
       "    <tr>\n",
       "      <th>5</th>\n",
       "      <td>249950</td>\n",
       "      <td>2019-09-06</td>\n",
       "      <td>LS12 5FA</td>\n",
       "      <td>S</td>\n",
       "      <td>Y</td>\n",
       "      <td>F</td>\n",
       "      <td>FARNLEY PARK VIEW</td>\n",
       "      <td>FARNLEY</td>\n",
       "      <td>LEEDS</td>\n",
       "      <td>LEEDS</td>\n",
       "      <td>WEST YORKSHIRE</td>\n",
       "    </tr>\n",
       "    <tr>\n",
       "      <th>6</th>\n",
       "      <td>730000</td>\n",
       "      <td>2018-11-16</td>\n",
       "      <td>BA1 9AU</td>\n",
       "      <td>D</td>\n",
       "      <td>Y</td>\n",
       "      <td>F</td>\n",
       "      <td>BECKFORD DRIVE</td>\n",
       "      <td>LANSDOWN</td>\n",
       "      <td>BATH</td>\n",
       "      <td>BATH AND NORTH EAST SOMERSET</td>\n",
       "      <td>BATH AND NORTH EAST SOMERSET</td>\n",
       "    </tr>\n",
       "    <tr>\n",
       "      <th>7</th>\n",
       "      <td>185000</td>\n",
       "      <td>2023-12-18</td>\n",
       "      <td>NR10 5PB</td>\n",
       "      <td>S</td>\n",
       "      <td>N</td>\n",
       "      <td>F</td>\n",
       "      <td>NELSON WAY</td>\n",
       "      <td>HEVINGHAM</td>\n",
       "      <td>NORWICH</td>\n",
       "      <td>BROADLAND</td>\n",
       "      <td>NORFOLK</td>\n",
       "    </tr>\n",
       "    <tr>\n",
       "      <th>8</th>\n",
       "      <td>120000</td>\n",
       "      <td>2021-11-10</td>\n",
       "      <td>WS12 1DN</td>\n",
       "      <td>T</td>\n",
       "      <td>N</td>\n",
       "      <td>L</td>\n",
       "      <td>WELLINGTON MEWS</td>\n",
       "      <td>HEDNESFORD</td>\n",
       "      <td>CANNOCK</td>\n",
       "      <td>CANNOCK CHASE</td>\n",
       "      <td>STAFFORDSHIRE</td>\n",
       "    </tr>\n",
       "    <tr>\n",
       "      <th>9</th>\n",
       "      <td>124000</td>\n",
       "      <td>2017-12-08</td>\n",
       "      <td>HU12 8BZ</td>\n",
       "      <td>T</td>\n",
       "      <td>N</td>\n",
       "      <td>F</td>\n",
       "      <td>WESTLANDS CLOSE</td>\n",
       "      <td>HEDON</td>\n",
       "      <td>HULL</td>\n",
       "      <td>EAST RIDING OF YORKSHIRE</td>\n",
       "      <td>EAST RIDING OF YORKSHIRE</td>\n",
       "    </tr>\n",
       "  </tbody>\n",
       "</table>\n",
       "</div>"
      ]
     },
     "execution_count": 237,
     "metadata": {},
     "output_type": "execute_result"
    }
   ],
   "execution_count": 237
  },
  {
   "metadata": {
    "ExecuteTime": {
     "end_time": "2025-07-12T21:01:26.015331Z",
     "start_time": "2025-07-12T21:01:26.007436Z"
    }
   },
   "cell_type": "code",
   "source": [
    "#select a unique sample of the property type\n",
    "df['property_type'].unique()"
   ],
   "id": "e072c40f6a074864",
   "outputs": [
    {
     "data": {
      "text/plain": [
       "array(['D', 'T', 'S', 'O', 'F'], dtype=object)"
      ]
     },
     "execution_count": 238,
     "metadata": {},
     "output_type": "execute_result"
    }
   ],
   "execution_count": 238
  },
  {
   "metadata": {
    "ExecuteTime": {
     "end_time": "2025-07-12T21:01:26.172212Z",
     "start_time": "2025-07-12T21:01:26.148339Z"
    }
   },
   "cell_type": "code",
   "source": [
    "#select the propety type with 'O'\n",
    "df[df['property_type'] == 'O'].sample()"
   ],
   "id": "f116028cb9c638e6",
   "outputs": [
    {
     "data": {
      "text/plain": [
       "       price        date  postcode property_type new_build freehold  \\\n",
       "72248  31500  2023-12-14  NR29 4HZ             O         N        L   \n",
       "\n",
       "           street locality            town        district   county  \n",
       "72248  BEACH ROAD   HEMSBY  GREAT YARMOUTH  GREAT YARMOUTH  NORFOLK  "
      ],
      "text/html": [
       "<div>\n",
       "<style scoped>\n",
       "    .dataframe tbody tr th:only-of-type {\n",
       "        vertical-align: middle;\n",
       "    }\n",
       "\n",
       "    .dataframe tbody tr th {\n",
       "        vertical-align: top;\n",
       "    }\n",
       "\n",
       "    .dataframe thead th {\n",
       "        text-align: right;\n",
       "    }\n",
       "</style>\n",
       "<table border=\"1\" class=\"dataframe\">\n",
       "  <thead>\n",
       "    <tr style=\"text-align: right;\">\n",
       "      <th></th>\n",
       "      <th>price</th>\n",
       "      <th>date</th>\n",
       "      <th>postcode</th>\n",
       "      <th>property_type</th>\n",
       "      <th>new_build</th>\n",
       "      <th>freehold</th>\n",
       "      <th>street</th>\n",
       "      <th>locality</th>\n",
       "      <th>town</th>\n",
       "      <th>district</th>\n",
       "      <th>county</th>\n",
       "    </tr>\n",
       "  </thead>\n",
       "  <tbody>\n",
       "    <tr>\n",
       "      <th>72248</th>\n",
       "      <td>31500</td>\n",
       "      <td>2023-12-14</td>\n",
       "      <td>NR29 4HZ</td>\n",
       "      <td>O</td>\n",
       "      <td>N</td>\n",
       "      <td>L</td>\n",
       "      <td>BEACH ROAD</td>\n",
       "      <td>HEMSBY</td>\n",
       "      <td>GREAT YARMOUTH</td>\n",
       "      <td>GREAT YARMOUTH</td>\n",
       "      <td>NORFOLK</td>\n",
       "    </tr>\n",
       "  </tbody>\n",
       "</table>\n",
       "</div>"
      ]
     },
     "execution_count": 239,
     "metadata": {},
     "output_type": "execute_result"
    }
   ],
   "execution_count": 239
  },
  {
   "metadata": {
    "ExecuteTime": {
     "end_time": "2025-07-12T21:01:26.354537Z",
     "start_time": "2025-07-12T21:01:26.263003Z"
    }
   },
   "cell_type": "code",
   "source": [
    "#an overview of the dataset\n",
    "df.info()"
   ],
   "id": "20a0a293fced6264",
   "outputs": [
    {
     "name": "stdout",
     "output_type": "stream",
     "text": [
      "<class 'pandas.core.frame.DataFrame'>\n",
      "RangeIndex: 90000 entries, 0 to 89999\n",
      "Data columns (total 11 columns):\n",
      " #   Column         Non-Null Count  Dtype \n",
      "---  ------         --------------  ----- \n",
      " 0   price          90000 non-null  int64 \n",
      " 1   date           90000 non-null  object\n",
      " 2   postcode       90000 non-null  object\n",
      " 3   property_type  90000 non-null  object\n",
      " 4   new_build      90000 non-null  object\n",
      " 5   freehold       90000 non-null  object\n",
      " 6   street         90000 non-null  object\n",
      " 7   locality       90000 non-null  object\n",
      " 8   town           90000 non-null  object\n",
      " 9   district       90000 non-null  object\n",
      " 10  county         90000 non-null  object\n",
      "dtypes: int64(1), object(10)\n",
      "memory usage: 7.6+ MB\n"
     ]
    }
   ],
   "execution_count": 240
  },
  {
   "metadata": {
    "ExecuteTime": {
     "end_time": "2025-07-12T21:01:26.490058Z",
     "start_time": "2025-07-12T21:01:26.418487Z"
    }
   },
   "cell_type": "code",
   "source": [
    "#checking for null values in the dataset\n",
    "df.isnull().sum()"
   ],
   "id": "e859a833eda9420b",
   "outputs": [
    {
     "data": {
      "text/plain": [
       "price            0\n",
       "date             0\n",
       "postcode         0\n",
       "property_type    0\n",
       "new_build        0\n",
       "freehold         0\n",
       "street           0\n",
       "locality         0\n",
       "town             0\n",
       "district         0\n",
       "county           0\n",
       "dtype: int64"
      ]
     },
     "execution_count": 241,
     "metadata": {},
     "output_type": "execute_result"
    }
   ],
   "execution_count": 241
  },
  {
   "metadata": {
    "ExecuteTime": {
     "end_time": "2025-07-12T21:01:26.620244Z",
     "start_time": "2025-07-12T21:01:26.576784Z"
    }
   },
   "cell_type": "code",
   "source": [
    "#converting the date column to datetime format and extracting the year\n",
    "\n",
    "df['date'] = pd.to_datetime(df['date'], format='%Y/%m/%d')\n",
    "df['date'] = df['date'].dt.year"
   ],
   "id": "9f03b591ad340421",
   "outputs": [],
   "execution_count": 242
  },
  {
   "metadata": {
    "ExecuteTime": {
     "end_time": "2025-07-12T21:01:26.711881Z",
     "start_time": "2025-07-12T21:01:26.703597Z"
    }
   },
   "cell_type": "code",
   "source": [
    "#ensuring the date column is in the correct format\n",
    "df.sample()"
   ],
   "id": "c4733bde9b7e4780",
   "outputs": [
    {
     "data": {
      "text/plain": [
       "        price  date postcode property_type new_build freehold       street  \\\n",
       "36572  137500  2021  CB9 7HY             S         N        F  POUND GREEN   \n",
       "\n",
       "             locality       town      district   county  \n",
       "36572  LITTLE THURLOW  HAVERHILL  WEST SUFFOLK  SUFFOLK  "
      ],
      "text/html": [
       "<div>\n",
       "<style scoped>\n",
       "    .dataframe tbody tr th:only-of-type {\n",
       "        vertical-align: middle;\n",
       "    }\n",
       "\n",
       "    .dataframe tbody tr th {\n",
       "        vertical-align: top;\n",
       "    }\n",
       "\n",
       "    .dataframe thead th {\n",
       "        text-align: right;\n",
       "    }\n",
       "</style>\n",
       "<table border=\"1\" class=\"dataframe\">\n",
       "  <thead>\n",
       "    <tr style=\"text-align: right;\">\n",
       "      <th></th>\n",
       "      <th>price</th>\n",
       "      <th>date</th>\n",
       "      <th>postcode</th>\n",
       "      <th>property_type</th>\n",
       "      <th>new_build</th>\n",
       "      <th>freehold</th>\n",
       "      <th>street</th>\n",
       "      <th>locality</th>\n",
       "      <th>town</th>\n",
       "      <th>district</th>\n",
       "      <th>county</th>\n",
       "    </tr>\n",
       "  </thead>\n",
       "  <tbody>\n",
       "    <tr>\n",
       "      <th>36572</th>\n",
       "      <td>137500</td>\n",
       "      <td>2021</td>\n",
       "      <td>CB9 7HY</td>\n",
       "      <td>S</td>\n",
       "      <td>N</td>\n",
       "      <td>F</td>\n",
       "      <td>POUND GREEN</td>\n",
       "      <td>LITTLE THURLOW</td>\n",
       "      <td>HAVERHILL</td>\n",
       "      <td>WEST SUFFOLK</td>\n",
       "      <td>SUFFOLK</td>\n",
       "    </tr>\n",
       "  </tbody>\n",
       "</table>\n",
       "</div>"
      ]
     },
     "execution_count": 243,
     "metadata": {},
     "output_type": "execute_result"
    }
   ],
   "execution_count": 243
  },
  {
   "metadata": {
    "ExecuteTime": {
     "end_time": "2025-07-12T21:01:26.812484Z",
     "start_time": "2025-07-12T21:01:26.807125Z"
    }
   },
   "cell_type": "code",
   "source": [
    "#checking the column names for the dataset\n",
    "df.columns"
   ],
   "id": "c8c83e50983eda94",
   "outputs": [
    {
     "data": {
      "text/plain": [
       "Index(['price', 'date', 'postcode', 'property_type', 'new_build', 'freehold',\n",
       "       'street', 'locality', 'town', 'district', 'county'],\n",
       "      dtype='object')"
      ]
     },
     "execution_count": 244,
     "metadata": {},
     "output_type": "execute_result"
    }
   ],
   "execution_count": 244
  },
  {
   "metadata": {
    "ExecuteTime": {
     "end_time": "2025-07-12T21:01:27.109270Z",
     "start_time": "2025-07-12T21:01:26.907827Z"
    }
   },
   "cell_type": "code",
   "source": [
    "#plot the bar chart of the property type 'O'\n",
    "df['property_type'].value_counts().plot(kind='bar', figsize=(10, 5))\n",
    "plt.xlabel('Property Type')\n",
    "plt.ylabel('Count')\n",
    "plt.title('Distribution of Property Types')\n",
    "plt.xticks(rotation=45)\n",
    "plt.show()\n",
    "\n"
   ],
   "id": "dde7001be0a0ef22",
   "outputs": [
    {
     "data": {
      "text/plain": [
       "<Figure size 1000x500 with 1 Axes>"
      ],
      "image/png": "[encoded data removed]"
     },
     "metadata": {},
     "output_type": "display_data"
    }
   ],
   "execution_count": 245
  },
  {
   "metadata": {
    "ExecuteTime": {
     "end_time": "2025-07-12T21:01:27.398243Z",
     "start_time": "2025-07-12T21:01:27.189614Z"
    }
   },
   "cell_type": "code",
   "source": [
    "df.groupby('property_type')['date'].hist(legend = True, bins=30)\n",
    "plt.xlabel('Year')\n",
    "plt.ylabel('Frequency')\n",
    "plt.title('Yearly Distribution by Property Type')\n",
    "plt.legend(title='Property Type')\n",
    "plt.show()"
   ],
   "id": "a178593368c4d37a",
   "outputs": [
    {
     "data": {
      "text/plain": [
       "<Figure size 640x480 with 1 Axes>"
      ],
      "image/png": "[encoded data removed]"
     },
     "metadata": {},
     "output_type": "display_data"
    }
   ],
   "execution_count": 246
  },
  {
   "metadata": {
    "ExecuteTime": {
     "end_time": "2025-07-12T21:01:27.554204Z",
     "start_time": "2025-07-12T21:01:27.454750Z"
    }
   },
   "cell_type": "code",
   "source": [
    "df_grouped = df.groupby('date')['price'].mean().reset_index()\n",
    "plt.plot(df_grouped['date'], df_grouped['price'], marker='o')\n",
    "plt.xlabel('Year')\n",
    "plt.ylabel('Price')\n",
    "plt.title('Yearly Price Trend')\n",
    "plt.xticks(rotation=45)\n",
    "plt.grid(True)\n",
    "plt.tight_layout()\n",
    "plt.show()"
   ],
   "id": "c1230d2e5b3df4f5",
   "outputs": [
    {
     "data": {
      "text/plain": [
       "<Figure size 640x480 with 1 Axes>"
      ],
      "image/png": "[encoded data removed]"
     },
     "metadata": {},
     "output_type": "display_data"
    }
   ],
   "execution_count": 247
  },
  {
   "metadata": {
    "ExecuteTime": {
     "end_time": "2025-07-12T21:01:27.616478Z",
     "start_time": "2025-07-12T21:01:27.611710Z"
    }
   },
   "cell_type": "code",
   "source": [
    "#categorize the data into numerical and categorical columns\n",
    "num_cols = df.select_dtypes(include=['int64', 'float64']).columns\n",
    "num_cols"
   ],
   "id": "9c7334df033671d",
   "outputs": [
    {
     "data": {
      "text/plain": [
       "Index(['price', 'date'], dtype='object')"
      ]
     },
     "execution_count": 248,
     "metadata": {},
     "output_type": "execute_result"
    }
   ],
   "execution_count": 248
  },
  {
   "metadata": {
    "ExecuteTime": {
     "end_time": "2025-07-12T21:04:14.317360Z",
     "start_time": "2025-07-12T21:04:14.273610Z"
    }
   },
   "cell_type": "code",
   "source": [
    "#dropping the columns that are not needed for the analysis\n",
    "df.drop(['postcode', 'locality', 'district', 'street', 'town'], axis=1, inplace=True)\n",
    "df.head(5)"
   ],
   "id": "c7b87ec2460fd1d8",
   "outputs": [
    {
     "data": {
      "text/plain": [
       "    price  date property_type new_build freehold             county\n",
       "0  735000  2017             D         N        F     LEICESTERSHIRE\n",
       "1  160000  2023             T         N        F  NEATH PORT TALBOT\n",
       "2  176500  2015             S         N        F             MEDWAY\n",
       "3  625000  2021             D         N        F        WEST SUSSEX\n",
       "4  202000  2019             S         N        F          WILTSHIRE"
      ],
      "text/html": [
       "<div>\n",
       "<style scoped>\n",
       "    .dataframe tbody tr th:only-of-type {\n",
       "        vertical-align: middle;\n",
       "    }\n",
       "\n",
       "    .dataframe tbody tr th {\n",
       "        vertical-align: top;\n",
       "    }\n",
       "\n",
       "    .dataframe thead th {\n",
       "        text-align: right;\n",
       "    }\n",
       "</style>\n",
       "<table border=\"1\" class=\"dataframe\">\n",
       "  <thead>\n",
       "    <tr style=\"text-align: right;\">\n",
       "      <th></th>\n",
       "      <th>price</th>\n",
       "      <th>date</th>\n",
       "      <th>property_type</th>\n",
       "      <th>new_build</th>\n",
       "      <th>freehold</th>\n",
       "      <th>county</th>\n",
       "    </tr>\n",
       "  </thead>\n",
       "  <tbody>\n",
       "    <tr>\n",
       "      <th>0</th>\n",
       "      <td>735000</td>\n",
       "      <td>2017</td>\n",
       "      <td>D</td>\n",
       "      <td>N</td>\n",
       "      <td>F</td>\n",
       "      <td>LEICESTERSHIRE</td>\n",
       "    </tr>\n",
       "    <tr>\n",
       "      <th>1</th>\n",
       "      <td>160000</td>\n",
       "      <td>2023</td>\n",
       "      <td>T</td>\n",
       "      <td>N</td>\n",
       "      <td>F</td>\n",
       "      <td>NEATH PORT TALBOT</td>\n",
       "    </tr>\n",
       "    <tr>\n",
       "      <th>2</th>\n",
       "      <td>176500</td>\n",
       "      <td>2015</td>\n",
       "      <td>S</td>\n",
       "      <td>N</td>\n",
       "      <td>F</td>\n",
       "      <td>MEDWAY</td>\n",
       "    </tr>\n",
       "    <tr>\n",
       "      <th>3</th>\n",
       "      <td>625000</td>\n",
       "      <td>2021</td>\n",
       "      <td>D</td>\n",
       "      <td>N</td>\n",
       "      <td>F</td>\n",
       "      <td>WEST SUSSEX</td>\n",
       "    </tr>\n",
       "    <tr>\n",
       "      <th>4</th>\n",
       "      <td>202000</td>\n",
       "      <td>2019</td>\n",
       "      <td>S</td>\n",
       "      <td>N</td>\n",
       "      <td>F</td>\n",
       "      <td>WILTSHIRE</td>\n",
       "    </tr>\n",
       "  </tbody>\n",
       "</table>\n",
       "</div>"
      ]
     },
     "execution_count": 252,
     "metadata": {},
     "output_type": "execute_result"
    }
   ],
   "execution_count": 252
  },
  {
   "metadata": {},
   "cell_type": "code",
   "outputs": [],
   "execution_count": null,
   "source": "",
   "id": "fc977adb53657bd6"
  },
  {
   "metadata": {
    "ExecuteTime": {
     "end_time": "2025-07-13T20:55:03.627423Z",
     "start_time": "2025-07-13T20:55:03.508208Z"
    }
   },
   "cell_type": "code",
   "source": [
    "#encoding the categorical columns using le from sklearn.preprocessing import LabelEncoder\n",
    "from sklearn.preprocessing import LabelEncoder\n",
    "le = LabelEncoder()\n",
    "\n",
    "categorical_columns = ['property_type', 'new_build', 'freehold', 'county']\n",
    "\n",
    "for col in categorical_columns:\n",
    "    df[col] = le.fit_transform(df[col])\n"
   ],
   "id": "665af448626083eb",
   "outputs": [],
   "execution_count": 254
  },
  {
   "metadata": {
    "ExecuteTime": {
     "end_time": "2025-07-13T20:55:52.373242Z",
     "start_time": "2025-07-13T20:55:52.321176Z"
    }
   },
   "cell_type": "code",
   "source": [
    "#using price as the target variable and the rest as features\n",
    "X = df.drop('price', axis=1)\n",
    "y = df['price']"
   ],
   "id": "d41f287488e60165",
   "outputs": [],
   "execution_count": 255
  },
  {
   "metadata": {
    "ExecuteTime": {
     "end_time": "2025-07-13T20:56:50.032859Z",
     "start_time": "2025-07-13T20:56:49.974624Z"
    }
   },
   "cell_type": "code",
   "source": "X.sample()",
   "id": "864cce96f08ddad3",
   "outputs": [
    {
     "data": {
      "text/plain": [
       "       date  property_type  new_build  freehold  county\n",
       "10802  2022              3          0         1      41"
      ],
      "text/html": [
       "<div>\n",
       "<style scoped>\n",
       "    .dataframe tbody tr th:only-of-type {\n",
       "        vertical-align: middle;\n",
       "    }\n",
       "\n",
       "    .dataframe tbody tr th {\n",
       "        vertical-align: top;\n",
       "    }\n",
       "\n",
       "    .dataframe thead th {\n",
       "        text-align: right;\n",
       "    }\n",
       "</style>\n",
       "<table border=\"1\" class=\"dataframe\">\n",
       "  <thead>\n",
       "    <tr style=\"text-align: right;\">\n",
       "      <th></th>\n",
       "      <th>date</th>\n",
       "      <th>property_type</th>\n",
       "      <th>new_build</th>\n",
       "      <th>freehold</th>\n",
       "      <th>county</th>\n",
       "    </tr>\n",
       "  </thead>\n",
       "  <tbody>\n",
       "    <tr>\n",
       "      <th>10802</th>\n",
       "      <td>2022</td>\n",
       "      <td>3</td>\n",
       "      <td>0</td>\n",
       "      <td>1</td>\n",
       "      <td>41</td>\n",
       "    </tr>\n",
       "  </tbody>\n",
       "</table>\n",
       "</div>"
      ]
     },
     "execution_count": 259,
     "metadata": {},
     "output_type": "execute_result"
    }
   ],
   "execution_count": 259
  },
  {
   "metadata": {
    "ExecuteTime": {
     "end_time": "2025-07-13T21:04:56.572038Z",
     "start_time": "2025-07-13T21:04:56.542048Z"
    }
   },
   "cell_type": "code",
   "source": [
    "#splitting the data into train and test sets\n",
    "from sklearn.model_selection import train_test_split\n",
    "X_train, X_test, y_train, y_test = train_test_split(X, y, test_size=0.2, random_state=50)"
   ],
   "id": "a0f092547cfeefff",
   "outputs": [],
   "execution_count": 268
  },
  {
   "metadata": {
    "ExecuteTime": {
     "end_time": "2025-07-13T21:05:00.387648Z",
     "start_time": "2025-07-13T21:05:00.383778Z"
    }
   },
   "cell_type": "code",
   "source": "X_train.shape, X_test.shape, y_train.shape, y_test.shape",
   "id": "c061c5a5cdb42030",
   "outputs": [
    {
     "data": {
      "text/plain": [
       "((72000, 5), (18000, 5), (72000,), (18000,))"
      ]
     },
     "execution_count": 269,
     "metadata": {},
     "output_type": "execute_result"
    }
   ],
   "execution_count": 269
  },
  {
   "metadata": {},
   "cell_type": "code",
   "outputs": [],
   "execution_count": null,
   "source": [
    "python\n",
    "from sklearn.linear_model import LinearRegression"
   ],
   "id": "4f1edb350fc5b162"
  },
  {
   "metadata": {
    "ExecuteTime": {
     "end_time": "2025-07-14T11:56:17.992608Z",
     "start_time": "2025-07-14T11:56:17.752347Z"
    }
   },
   "cell_type": "code",
   "source": [
    "lin_reg = LinearRegression()\n",
    "lin_reg.fit(X_train, y_train)"
   ],
   "id": "67591c449b77414c",
   "outputs": [
    {
     "data": {
      "text/plain": [
       "LinearRegression()"
      ],
      "text/html": [
       "<style>#sk-container-id-4 {color: black;background-color: white;}#sk-container-id-4 pre{padding: 0;}#sk-container-id-4 div.sk-toggleable {background-color: white;}#sk-container-id-4 label.sk-toggleable__label {cursor: pointer;display: block;width: 100%;margin-bottom: 0;padding: 0.3em;box-sizing: border-box;text-align: center;}#sk-container-id-4 label.sk-toggleable__label-arrow:before {content: \"▸\";float: left;margin-right: 0.25em;color: #696969;}#sk-container-id-4 label.sk-toggleable__label-arrow:hover:before {color: black;}#sk-container-id-4 div.sk-estimator:hover label.sk-toggleable__label-arrow:before {color: black;}#sk-container-id-4 div.sk-toggleable__content {max-height: 0;max-width: 0;overflow: hidden;text-align: left;background-color: #f0f8ff;}#sk-container-id-4 div.sk-toggleable__content pre {margin: 0.2em;color: black;border-radius: 0.25em;background-color: #f0f8ff;}#sk-container-id-4 input.sk-toggleable__control:checked~div.sk-toggleable__content {max-height: 200px;max-width: 100%;overflow: auto;}#sk-container-id-4 input.sk-toggleable__control:checked~label.sk-toggleable__label-arrow:before {content: \"▾\";}#sk-container-id-4 div.sk-estimator input.sk-toggleable__control:checked~label.sk-toggleable__label {background-color: #d4ebff;}#sk-container-id-4 div.sk-label input.sk-toggleable__control:checked~label.sk-toggleable__label {background-color: #d4ebff;}#sk-container-id-4 input.sk-hidden--visually {border: 0;clip: rect(1px 1px 1px 1px);clip: rect(1px, 1px, 1px, 1px);height: 1px;margin: -1px;overflow: hidden;padding: 0;position: absolute;width: 1px;}#sk-container-id-4 div.sk-estimator {font-family: monospace;background-color: #f0f8ff;border: 1px dotted black;border-radius: 0.25em;box-sizing: border-box;margin-bottom: 0.5em;}#sk-container-id-4 div.sk-estimator:hover {background-color: #d4ebff;}#sk-container-id-4 div.sk-parallel-item::after {content: \"\";width: 100%;border-bottom: 1px solid gray;flex-grow: 1;}#sk-container-id-4 div.sk-label:hover label.sk-toggleable__label {background-color: #d4ebff;}#sk-container-id-4 div.sk-serial::before {content: \"\";position: absolute;border-left: 1px solid gray;box-sizing: border-box;top: 0;bottom: 0;left: 50%;z-index: 0;}#sk-container-id-4 div.sk-serial {display: flex;flex-direction: column;align-items: center;background-color: white;padding-right: 0.2em;padding-left: 0.2em;position: relative;}#sk-container-id-4 div.sk-item {position: relative;z-index: 1;}#sk-container-id-4 div.sk-parallel {display: flex;align-items: stretch;justify-content: center;background-color: white;position: relative;}#sk-container-id-4 div.sk-item::before, #sk-container-id-4 div.sk-parallel-item::before {content: \"\";position: absolute;border-left: 1px solid gray;box-sizing: border-box;top: 0;bottom: 0;left: 50%;z-index: -1;}#sk-container-id-4 div.sk-parallel-item {display: flex;flex-direction: column;z-index: 1;position: relative;background-color: white;}#sk-container-id-4 div.sk-parallel-item:first-child::after {align-self: flex-end;width: 50%;}#sk-container-id-4 div.sk-parallel-item:last-child::after {align-self: flex-start;width: 50%;}#sk-container-id-4 div.sk-parallel-item:only-child::after {width: 0;}#sk-container-id-4 div.sk-dashed-wrapped {border: 1px dashed gray;margin: 0 0.4em 0.5em 0.4em;box-sizing: border-box;padding-bottom: 0.4em;background-color: white;}#sk-container-id-4 div.sk-label label {font-family: monospace;font-weight: bold;display: inline-block;line-height: 1.2em;}#sk-container-id-4 div.sk-label-container {text-align: center;}#sk-container-id-4 div.sk-container {/* jupyter's `normalize.less` sets `[hidden] { display: none; }` but bootstrap.min.css set `[hidden] { display: none !important; }` so we also need the `!important` here to be able to override the default hidden behavior on the sphinx rendered scikit-learn.org. See: https://github.com/scikit-learn/scikit-learn/issues/21755 */display: inline-block !important;position: relative;}#sk-container-id-4 div.sk-text-repr-fallback {display: none;}</style><div id=\"sk-container-id-4\" class=\"sk-top-container\"><div class=\"sk-text-repr-fallback\"><pre>LinearRegression()</pre><b>In a Jupyter environment, please rerun this cell to show the HTML representation or trust the notebook. <br />On GitHub, the HTML representation is unable to render, please try loading this page with nbviewer.org.</b></div><div class=\"sk-container\" hidden><div class=\"sk-item\"><div class=\"sk-estimator sk-toggleable\"><input class=\"sk-toggleable__control sk-hidden--visually\" id=\"sk-estimator-id-4\" type=\"checkbox\" checked><label for=\"sk-estimator-id-4\" class=\"sk-toggleable__label sk-toggleable__label-arrow\">LinearRegression</label><div class=\"sk-toggleable__content\"><pre>LinearRegression()</pre></div></div></div></div></div>"
      ]
     },
     "execution_count": 277,
     "metadata": {},
     "output_type": "execute_result"
    }
   ],
   "execution_count": 277
  },
  {
   "metadata": {
    "ExecuteTime": {
     "end_time": "2025-07-14T11:56:20.462467Z",
     "start_time": "2025-07-14T11:56:20.433610Z"
    }
   },
   "cell_type": "code",
   "source": "y_pred = lin_reg.predict(X_test)",
   "id": "49e9c0c7b1df251e",
   "outputs": [],
   "execution_count": 278
  },
  {
   "metadata": {
    "ExecuteTime": {
     "end_time": "2025-07-14T11:56:24.644665Z",
     "start_time": "2025-07-14T11:56:24.610622Z"
    }
   },
   "cell_type": "code",
   "source": [
    "#calculating the evaluation metrics\n",
    "from sklearn.metrics import mean_squared_error, r2_score, mean_absolute_error\n",
    "mse = mean_squared_error(y_test, y_pred)\n",
    "rmse = np.sqrt(mse)\n",
    "r2 = r2_score(y_test, y_pred)\n",
    "mae = mean_absolute_error(y_test, y_pred)\n",
    "print(f'Mean Squared Error: {mse}')\n",
    "print(f'Root Mean Squared Error: {rmse}')\n",
    "print(f'R2 Score: {r2}')\n",
    "print(f'Mean Absolute Error: {mae}')"
   ],
   "id": "f80d40b4079ff916",
   "outputs": [
    {
     "name": "stdout",
     "output_type": "stream",
     "text": [
      "Mean Squared Error: 1498809736850.8098\n",
      "Root Mean Squared Error: 1224258.852061446\n",
      "R2 Score: 0.0066823340706433365\n",
      "Mean Absolute Error: 170432.3467784772\n"
     ]
    }
   ],
   "execution_count": 279
  },
  {
   "metadata": {},
   "cell_type": "code",
   "outputs": [],
   "execution_count": null,
   "source": "",
   "id": "192da37b501fe9f3"
  }
 ],
 "metadata": {
  "kernelspec": {
   "display_name": "Python 3",
   "language": "python",
   "name": "python3"
  },
  "language_info": {
   "codemirror_mode": {
    "name": "ipython",
    "version": 2
   },
   "file_extension": ".py",
   "mimetype": "text/x-python",
   "name": "python",
   "nbconvert_exporter": "python",
   "pygments_lexer": "ipython2",
   "version": "2.7.6"
  }
 },
 "nbformat": 4,
 "nbformat_minor": 5
}
